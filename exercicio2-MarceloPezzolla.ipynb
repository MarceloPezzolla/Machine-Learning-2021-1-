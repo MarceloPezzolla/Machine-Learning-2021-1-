{
 "cells": [
  {
   "cell_type": "markdown",
   "metadata": {},
   "source": [
    "Universidade Federal de Santa Catarina<br>\n",
    "Departamento de Engenharia Elétrica e Eletrônica<br>\n",
    "EEL410250 / EEL7513 / EEL7514 - Aprendizado de Máquina\n",
    "$\\newcommand{\\bX}{\\mathbf{X}}$\n",
    "$\\newcommand{\\bw}{\\mathbf{w}}$\n",
    "$\\newcommand{\\by}{\\mathbf{y}}$\n",
    "$\\newcommand{\\bx}{\\mathbf{x}}$\n",
    "$\\newcommand{\\RR}{\\mathbb{R}}$\n",
    "\n",
    "\n",
    "# Exercício 2: Regressão Linear\n",
    "\n",
    "Neste exercício você irá treinar um modelo de regressão linear e o usará para fazer predições. Além disso, você investigará a adição de novos atributos e a necessidade de regularização."
   ]
  },
  {
   "cell_type": "markdown",
   "metadata": {},
   "source": [
    "# Conjunto de dados\n",
    "\n",
    "Para facilitar a análise, o conjunto de dados utilizado neste exercício possui um único atributo $x \\in \\RR$ (e um valor-alvo $y \\in \\RR$). Além desta peculiaridade, é importante ressaltar duas grandes diferenças em relação ao que se encontra em problemas reais:\n",
    "- O conjunto de dados é sintético, isto é, gerado por simulação;\n",
    "- O conjunto de treinamento tem tamanho **muito menor** que os conjuntos de validação e teste.\n",
    "\n",
    "A razão para esta escolha é que um conjunto de treinamento pequeno nos permitirá observar mais facilmente o fenômeno de overfitting, enquanto conjuntos de validação e teste suficientemente grandes nos permitirão ter mais confiança na estimativa de desempenho do modelo medida nestes conjuntos."
   ]
  },
  {
   "cell_type": "code",
   "execution_count": 1,
   "metadata": {},
   "outputs": [],
   "source": [
    "import numpy as np\n",
    "import matplotlib.pyplot as plt\n",
    "\n",
    "def gen_data(n_samples, x_scale=[0,1], noise=0.5):\n",
    "    '''Generate univariate regression dataset'''\n",
    "    x = np.sort(np.random.rand(n_samples))\n",
    "    y = 6*(-1/6 + x + (x > 1/3)*(2/3-2*x) + (x > 2/3)*(2*x-4/3)) + noise*np.random.randn(n_samples)\n",
    "    x = x_scale[0] + (x_scale[1]-x_scale[0])*x\n",
    "    X = x.reshape(-1,1)\n",
    "    return X, y\n",
    "\n",
    "def plot_data(X, y):\n",
    "    '''Plot univariate regression dataset'''\n",
    "    assert len(X.shape) == 2 and len(y.shape) == 1\n",
    "    plt.plot(X[:,0],y,'b.'); plt.xlabel('x'); plt.ylabel('y');\n",
    "    return\n",
    "\n",
    "def plot_prediction(model, X, y, n_points=100):\n",
    "    '''Plot dataset and predictions for a univariate regression model'''\n",
    "    plot_data(X,y)\n",
    "    if n_points is not None:\n",
    "        xx = np.linspace(X.min(),X.max(),n_points)\n",
    "        yy = model.predict(xx.reshape(-1,1))\n",
    "        plt.plot(xx,yy,'r-')\n",
    "    y_pred = model.predict(X)\n",
    "    plt.plot(X[:,0],y_pred,'r.')\n",
    "    plt.legend(['True', 'Predicted'])\n",
    "    return"
   ]
  },
  {
   "cell_type": "markdown",
   "metadata": {},
   "source": [
    "O conjunto de dados pode ser gerado e visualizado pelos comandos abaixo."
   ]
  },
  {
   "cell_type": "code",
   "execution_count": 2,
   "metadata": {},
   "outputs": [
    {
     "name": "stdout",
     "output_type": "stream",
     "text": [
      "(30, 1) (30,)\n",
      "(1000, 1) (1000,)\n",
      "(1000, 1) (1000,)\n"
     ]
    },
    {
     "data": {
      "image/png": "[encoded data removed]",
      "text/plain": [
       "<Figure size 432x288 with 1 Axes>"
      ]
     },
     "metadata": {
      "needs_background": "light"
     },
     "output_type": "display_data"
    }
   ],
   "source": [
    "np.random.seed(2019*2)\n",
    "X, y = gen_data(n_samples=30)\n",
    "X_val, y_val = gen_data(n_samples=1000)\n",
    "X_test, y_test = gen_data(n_samples=1000)\n",
    "\n",
    "print(X.shape, y.shape)\n",
    "print(X_val.shape, y_val.shape)\n",
    "print(X_test.shape, y_test.shape)\n",
    "\n",
    "# Plot only the training data!\n",
    "plot_data(X,y)"
   ]
  },
  {
   "cell_type": "markdown",
   "metadata": {},
   "source": [
    "# 1. Regressão linear simples\n",
    "\n",
    "\n",
    "1. Treine um modelo de regressão linear simples, $\\hat{y} = w_0 + w_1 x$, sobre o conjunto de treinamento\n",
    "1. Calcule o erro quadrático médio (MSE) da predição sobre o conjunto de treinamento e sobre o conjunto de teste\n",
    "1. Trace o gráfico da predição sobre o conjunto de treinamento\n",
    "1. Você diria que o modelo treinado está sofrendo de underfitting, overfitting ou nenhum dos dois? Explique.\n",
    "1. (OPCIONAL) Experimente também a função [`model.score`](https://scikit-learn.org/stable/modules/generated/sklearn.linear_model.LinearRegression.html#sklearn.linear_model.LinearRegression.score) do sklearn. Qual a relação entre este valor e o MSE? É possível calcular um a partir do outro? Como?\n",
    "\n",
    "#### Dicas:\n",
    "- Para traçar o gráfico, utilize a função `plot_prediction` fornecida acima\n",
    "- Outras funções úteis:\n",
    "```python\n",
    "sklearn.linear_model.LinearRegression\n",
    "sklearn.metrics.mean_squared_error\n",
    "```"
   ]
  },
  {
   "cell_type": "code",
   "execution_count": 3,
   "metadata": {},
   "outputs": [
    {
     "name": "stdout",
     "output_type": "stream",
     "text": [
      "Train RMSE: 0.7192109231730063\n",
      "Test RMSE: 0.7734279501954097\n"
     ]
    }
   ],
   "source": [
    "from sklearn.linear_model import LinearRegression\n",
    "from sklearn.metrics import mean_squared_error\n",
    "\n",
    "model = LinearRegression()\n",
    "model.fit(X, y)\n",
    "predictTrain = model.predict(X)\n",
    "predictTest = model.predict(X_test)\n",
    "\n",
    "trainRMSE = (np.sqrt(mean_squared_error(y, predictTrain)))\n",
    "testRMSE = (np.sqrt(mean_squared_error(y_test ,predictTest)))\n",
    "print('Train RMSE:', trainRMSE)\n",
    "print('Test RMSE:', testRMSE)\n"
   ]
  },
  {
   "cell_type": "code",
   "execution_count": 4,
   "metadata": {},
   "outputs": [
    {
     "data": {
      "image/png": "[encoded data removed]",
      "text/plain": [
       "<Figure size 432x288 with 1 Axes>"
      ]
     },
     "metadata": {
      "needs_background": "light"
     },
     "output_type": "display_data"
    }
   ],
   "source": [
    "plot_data(X,y)\n",
    "plot_prediction(model, X, y)"
   ]
  },
  {
   "cell_type": "code",
   "execution_count": 5,
   "metadata": {},
   "outputs": [
    {
     "name": "stdout",
     "output_type": "stream",
     "text": [
      "0.0013485634441275929\n"
     ]
    }
   ],
   "source": [
    "modScore = model.score(X,y)\n",
    "print(modScore)\n",
    "#Score bem baixo"
   ]
  },
  {
   "cell_type": "markdown",
   "metadata": {},
   "source": [
    "# 2. Adicionando atributos (regressão linear com múltiplas variáveis)\n",
    "\n",
    "Agora, estenderemos o modelo de regressão linear adicionando atributos polinomiais de grau até $d$, isto é, o modelo será dado por $\\hat{y} = w_0 + w_1 x + w_2 x^2 + \\cdots + w_d x^d$. Note que esse modelo possui um hiperparâmetro, $d$, que precisa ser determinado. **A boa prática recomenda nunca utilizar o conjunto de teste até que todos os hiperparâmetros sejam escolhidos**, utilizando, ao invés disso, o conjunto de validação.\n",
    "\n",
    "1. Adicione atributos polinomiais ao modelo de regressão linear, escolha algum valor de $d$ e treine o modelo.\n",
    "1. Calcule o erro quadrático médio (MSE) da predição sobre o conjunto de treinamento e sobre o **conjunto de validação**.\n",
    "1. Trace o gráfico da predição sobre o conjunto de treinamento.\n",
    "1. Repita os passos acima experimentando outros valores de $d$. O que você observa?\n",
    "1. Especificamente, para o caso $d=12$, você diria que o modelo está sofrendo de underfitting, overfitting ou nenhum dos dois?\n",
    "\n",
    "#### Dicas\n",
    "- Para adicionar atributos polinomiais, use a função `sklearn.preprocessing.PolynomialFeatures` (leia sua [documentação](https://scikit-learn.org/stable/modules/generated/sklearn.preprocessing.PolynomialFeatures.html)). Para combinar este pré-processamento (transformação de atributos) com o modelo de regressão linear (estimador) em um único modelo, utilize a função `sklearn.pipeline.make_pipeline` (leia sua [documentação](https://scikit-learn.org/stable/modules/generated/sklearn.pipeline.make_pipeline.html)). Pode ser útil ler também os guias [https://scikit-learn.org/stable/getting_started.html] e [https://scikit-learn.org/stable/modules/compose.html] para ter uma visão geral do processo de encadeamento de pré-processamento e estimação.\n",
    "- Não há necessidade de incluir o termo constante nos atributos adicionados, uma vez que o modelo de regressão linear já implementa a adição de coluna de 1's. Assim, utilize `PolynomialFeatures(d, include_bias=False)`."
   ]
  },
  {
   "cell_type": "code",
   "execution_count": 6,
   "metadata": {},
   "outputs": [
    {
     "name": "stdout",
     "output_type": "stream",
     "text": [
      "d = 1  Train RMSE: 0.7192109231730063  Test RMSE: 0.7752796567335274 \n",
      "d = 2  Train RMSE: 0.7155387967268774  Test RMSE: 0.7821782909882687 \n",
      "d = 3  Train RMSE: 0.5705247127618751  Test RMSE: 0.5787456996952536 \n",
      "d = 4  Train RMSE: 0.5705188196901333  Test RMSE: 0.5788522847917862 \n",
      "d = 5  Train RMSE: 0.42912346973338916  Test RMSE: 0.5588035608915332 \n",
      "d = 6  Train RMSE: 0.4291158241079817  Test RMSE: 0.558611988255173 \n",
      "d = 7  Train RMSE: 0.4058187955414304  Test RMSE: 0.5534876260597937 \n",
      "d = 8  Train RMSE: 0.39633482032617984  Test RMSE: 0.5662470992007963 \n",
      "d = 9  Train RMSE: 0.39028331652734904  Test RMSE: 0.5640943395290224 \n",
      "d = 10  Train RMSE: 0.37896955064554827  Test RMSE: 0.5848630351949334 \n",
      "d = 11  Train RMSE: 0.334569797104844  Test RMSE: 0.7043414798828416 \n",
      "d = 12  Train RMSE: 0.33009463431264874  Test RMSE: 0.8226631337980139 \n",
      "d = 13  Train RMSE: 0.32887830556482045  Test RMSE: 0.6515362824840236 \n",
      "d = 14  Train RMSE: 0.30792850643854647  Test RMSE: 3.203910615019305 \n",
      "d = 15  Train RMSE: 0.30474111684869903  Test RMSE: 1.4691770748590773 \n",
      "d = 16  Train RMSE: 0.30375786791578147  Test RMSE: 2.727762966091878 \n",
      "d = 17  Train RMSE: 0.3037079824548848  Test RMSE: 1.2651810855201286 \n",
      "d = 18  Train RMSE: 0.2592162102731413  Test RMSE: 162.74656004638769 \n"
     ]
    }
   ],
   "source": [
    "from sklearn.preprocessing import PolynomialFeatures\n",
    "from sklearn import pipeline\n",
    "\n",
    "def PolyRegression(d, X, y, X_val, y_val):\n",
    "    p = PolynomialFeatures(d, include_bias=False)\n",
    "    pipe = pipeline.make_pipeline(p, LinearRegression())\n",
    "    reg = pipe.fit(X, y)\n",
    "    predictTrain = reg.predict(X)\n",
    "    predictTest = reg.predict(X_val)\n",
    "\n",
    "    trainRMSE = (np.sqrt(mean_squared_error(y, predictTrain)))\n",
    "    testRMSE = (np.sqrt(mean_squared_error(y_val ,predictTest)))\n",
    "    return pipe, trainRMSE, testRMSE\n",
    "    \n",
    "for i in range(1, 19):\n",
    "    pipe, trainRMSE, testRMSE = PolyRegression(i, X, y, X_val, y_val)\n",
    "    print(f\"d = {i}  Train RMSE: {trainRMSE}  Test RMSE: {testRMSE} \")\n",
    "        \n",
    "    "
   ]
  },
  {
   "cell_type": "code",
   "execution_count": 7,
   "metadata": {},
   "outputs": [
    {
     "data": {
      "image/png": "[encoded data removed]",
      "text/plain": [
       "<Figure size 432x288 with 1 Axes>"
      ]
     },
     "metadata": {
      "needs_background": "light"
     },
     "output_type": "display_data"
    }
   ],
   "source": [
    "plot_prediction(PolyRegression(12, X, y, X_val, y_val)[0], X, y)"
   ]
  },
  {
   "cell_type": "markdown",
   "metadata": {},
   "source": [
    "## Busca de hiperparâmetros\n",
    "\n",
    "6. Trace um gráfico do MSE de treinamento e de validação em função do grau $d$. Se necessário, ajuste a escala vertical para melhor visualização.\n",
    "1. Comente sobre o que você observa no gráfico. Em particular, explique o comportamento das duas curvas e por que esse comportamento era esperado.\n",
    "1. Determine o valor de $d$ que minimiza o erro no conjunto de validação.\n",
    "1. Para este valor de $d$, calcule o MSE de treinamento, de validação **e de teste** e trace o gráfico da predição (`plot_prediction`) sobre o conjunto de treinamento.\n",
    "1. (OPCIONAL) O erro de validação parece representativo do erro de teste? O que você acha que aconteceria se o conjunto de validação fosse significativamente menor (por exemplo, com 30 amostras ao invés de 1000)?\n",
    "\n",
    "#### Dicas:\n",
    "- Funções úteis:\n",
    "```python\n",
    "np.arange() # retorna um array com separação uniforme (por exemplo, de inteiros)\n",
    "np.zeros() # útil para pré-alocação de vetores\n",
    "for i in range(len(v)): # percorre os elementos de v\n",
    "plt.ylim() # ajusta a escala vertical\n",
    "np.argmin() # encontra o índice do menor elemento do array\n",
    "```"
   ]
  },
  {
   "cell_type": "code",
   "execution_count": 8,
   "metadata": {},
   "outputs": [
    {
     "data": {
      "text/plain": [
       "[<matplotlib.lines.Line2D at 0x1a225dff50>]"
      ]
     },
     "execution_count": 8,
     "metadata": {},
     "output_type": "execute_result"
    },
    {
     "data": {
      "image/png": "[encoded data removed]",
      "text/plain": [
       "<Figure size 432x288 with 1 Axes>"
      ]
     },
     "metadata": {
      "needs_background": "light"
     },
     "output_type": "display_data"
    }
   ],
   "source": [
    "maxD = 15\n",
    "dArray = np.arange(1, maxD+1)\n",
    "MSETrainArray = np.zeros(maxD)\n",
    "MSEValArray = np.zeros(maxD)\n",
    "\n",
    "for i in dArray:\n",
    "    MSETrainArray[i-1], MSEValArray[i-1] = PolyRegression(i, X, y, X_val, y_val)[1:]\n",
    "plt.plot(dArray, MSETrainArray, \".-\")\n",
    "plt.plot(dArray, MSEValArray, \".-\")"
   ]
  },
  {
   "cell_type": "code",
   "execution_count": 9,
   "metadata": {},
   "outputs": [
    {
     "name": "stdout",
     "output_type": "stream",
     "text": [
      "Grau do polinomio que minimiza a MSE de validação d = 7\n",
      "MSE treino: 0.4291158241079817\n",
      "MSE validação: 0.5534876260597937\n",
      "MSE teste: 0.558988183398304\n"
     ]
    },
    {
     "data": {
      "image/png": "[encoded data removed]",
      "text/plain": [
       "<Figure size 432x288 with 1 Axes>"
      ]
     },
     "metadata": {
      "needs_background": "light"
     },
     "output_type": "display_data"
    }
   ],
   "source": [
    "dMin = np.argmin(MSEValArray)\n",
    "print(f\"Grau do polinomio que minimiza a MSE de validação d = {dMin+1}\")\n",
    "pipe, MSETrain, MSETest = PolyRegression(dMin, X, y, X_test, y_test)\n",
    "print(f\"MSE treino: {MSETrain}\")\n",
    "print(f\"MSE validação: {MSEValArray[dMin]}\")\n",
    "print(f\"MSE teste: {MSETest}\")\n",
    "\n",
    "plot_prediction(pipe, X, y)"
   ]
  },
  {
   "cell_type": "markdown",
   "metadata": {},
   "source": [
    "# 3. Regularização\n",
    "\n",
    "Agora, adicionaremos regularização $\\ell_2$ ao modelo, o que introduz mais um hiperparâmetro, o parâmetro de regularização $\\lambda$.\n",
    "**Para todos os itens abaixo, utilize o modelo com $d=12$.**\n",
    "\n",
    "1. Retornando ao modelo com $d=12$, agora com regularização $\\ell_2$ (*ridge regression*), experimente alguns valores de $\\lambda$ e observe os resultados no gráfico da predição sobre o conjunto de treinamento. (Você logo perceberá a necessidade de usar $\\lambda \\ll 1$.) Em particular, o que acontece quando $\\lambda$ é comparativamente grande?\n",
    "1. Trace um gráfico do MSE de treinamento e de validação em função de $\\log \\lambda$. (Por que usar escala logarítmica?)\n",
    "1. Comente sobre o que você observa no gráfico. Em particular, explique o comportamento das duas curvas em função de lambda (o que acontece em cada região) e por que esse comportamento era esperado.\n",
    "1. Determine o valor de $\\lambda$ que minimiza o erro no conjunto de validação.\n",
    "1. Para este valor de $\\lambda$, calcule o MSE de treinamento, de validação e de teste e trace o gráfico da predição (`plot_prediction`) sobre o conjunto de treinamento.\n",
    "1. A partir destes resultados e do resultado do item 2.5, comente sobre o efeito da regularização em um modelo com capacidade elevada comparativamente ao tamanho do conjunto de treinamento.\n",
    "1. (OPCIONAL) O que você acha que ocorreria se o conjunto de treinamento fosse relativamente grande (por exemplo, com 1000 amostras ao invés de 30)? Ainda seria importante regularizar?\n",
    "\n",
    "#### Dicas\n",
    "\n",
    "- Não utilize `lambda` como nome de variável, pois no Python `lambda` é uma palavra reservada (operador para criar funções anônimas). Uma sugestão é abreviar para `lamb`.\n",
    "\n",
    "- Funções úteis:\n",
    "```python\n",
    "sklearn.linear_model.Ridge()\n",
    "np.linspace()\n",
    "np.exp()\n",
    "np.log()\n",
    "```\n",
    "Note que o modelo `Ridge()` utiliza `alpha` (ao invés de $\\lambda$) como parâmetro de regularização."
   ]
  },
  {
   "cell_type": "code",
   "execution_count": 10,
   "metadata": {},
   "outputs": [
    {
     "name": "stdout",
     "output_type": "stream",
     "text": [
      "Train RMSE: 0.43009788870470056  Test RMSE: 0.54005095047949\n"
     ]
    },
    {
     "data": {
      "image/png": "[encoded data removed]",
      "text/plain": [
       "<Figure size 432x288 with 1 Axes>"
      ]
     },
     "metadata": {
      "needs_background": "light"
     },
     "output_type": "display_data"
    }
   ],
   "source": [
    "from sklearn.linear_model import Ridge\n",
    "\n",
    "d = 12\n",
    "lamb = 1e-5\n",
    "\n",
    "def PolyRegWRidge(d, lamb, X, y, X_val, y_val):\n",
    "    p = PolynomialFeatures(d, include_bias=False)\n",
    "    r = Ridge(alpha=lamb)\n",
    "    pipe = pipeline.make_pipeline(p, r)\n",
    "    reg = pipe.fit(X, y)\n",
    "    predictTrain = reg.predict(X)\n",
    "    predictTest = reg.predict(X_val)\n",
    "\n",
    "    trainRMSE = (np.sqrt(mean_squared_error(y, predictTrain)))\n",
    "    testRMSE = (np.sqrt(mean_squared_error(y_val ,predictTest)))\n",
    "    return pipe, trainRMSE, testRMSE\n",
    "\n",
    "pipe, trainRMSE, testRMSE = PolyRegWRidge(d, lamb, X, y, X_val, y_val)\n",
    "print(f\"Train RMSE: {trainRMSE}  Test RMSE: {testRMSE}\")\n",
    "plot_prediction(pipe, X, y)"
   ]
  },
  {
   "cell_type": "markdown",
   "metadata": {},
   "source": [
    "## (OPCIONAL) Busca de hiperparâmetros (2)\n",
    "\n",
    "8. Determine o par $(d,\\lambda)$ que minimiza o erro no conjunto de validação.\n",
    "1. Para estes valores de $d$ e $\\lambda$, calcule o MSE de treinamento, de validação e de teste e trace o gráfico da predição sobre o conjunto de treinamento.\n",
    "1. Compare o erro de teste encontrado com o resultante da melhor escolha de $d$ sem regularização.\n",
    "\n",
    "#### Dicas\n",
    "- Uma forma de implementar a busca pelo par $(d,\\lambda)$ é organizar a implementação em dois loops, primeiramente em $d$ e em seguida em $\\lambda$.\n",
    "- Pode ser conveniente encapsular o loop interno (busca por $\\lambda$) em uma função que tem como entrada $d$ e retorna $\\lambda$.\n",
    "- Os códigos já desenvolvidos podem ser reutilizados com poucas adaptações."
   ]
  },
  {
   "cell_type": "code",
   "execution_count": 11,
   "metadata": {},
   "outputs": [
    {
     "name": "stdout",
     "output_type": "stream",
     "text": [
      "MSE val min = 0.5329785913633622, d min = 5, lambda min = 2.4980503258668882e-06\n",
      "Train RMSE: 0.46006476428994125  Test RMSE: 0.5329785913633622\n"
     ]
    },
    {
     "data": {
      "image/png": "[encoded data removed]",
      "text/plain": [
       "<Figure size 432x288 with 1 Axes>"
      ]
     },
     "metadata": {
      "needs_background": "light"
     },
     "output_type": "display_data"
    }
   ],
   "source": [
    "lambArray = np.exp(np.arange(-20,-5,0.1))\n",
    "dArray = np.arange(1,20)\n",
    "\n",
    "MSEValMin = 1\n",
    "dMin = 0\n",
    "lambMin = 0\n",
    "\n",
    "for j in range(dArray.shape[0]):\n",
    "    for i in range(lambArray.shape[0]):\n",
    "        MSEVal = PolyRegWRidge(dArray[j], lambArray[i], X, y, X_val, y_val)[2]\n",
    "        if (MSEVal < MSEValMin):\n",
    "            MSEValMin = MSEVal\n",
    "            dMin = dArray[j]\n",
    "            lambMin = lambArray[i]\n",
    "            \n",
    "print(f\"MSE val min = {MSEValMin}, d min = {dMin}, lambda min = {lambMin}\")\n",
    "pipe, trainRMSE, testRMSE = PolyRegWRidge(dMin, lambMin, X, y, X_val, y_val)\n",
    "print(f\"Train RMSE: {trainRMSE}  Test RMSE: {testRMSE}\")\n",
    "plot_prediction(pipe, X, y)"
   ]
  },
  {
   "cell_type": "code",
   "execution_count": 13,
   "metadata": {},
   "outputs": [
    {
     "data": {
      "text/plain": [
       "<matplotlib.legend.Legend at 0x1a229a6510>"
      ]
     },
     "execution_count": 13,
     "metadata": {},
     "output_type": "execute_result"
    },
    {
     "data": {
      "image/png": "[encoded data removed]",
      "text/plain": [
       "<Figure size 432x288 with 1 Axes>"
      ]
     },
     "metadata": {
      "needs_background": "light"
     },
     "output_type": "display_data"
    }
   ],
   "source": [
    "lambArray = np.exp(np.arange(-20, -5, 0.1))\n",
    "MSETrainArray = np.zeros(lambArray.shape[0])\n",
    "MSEValArray = np.zeros(lambArray.shape[0])\n",
    "\n",
    "for i in range(lambArray.shape[0]):\n",
    "    MSETrainArray[i], MSEValArray[i] = PolyRegWRidge(12, lambArray[i], X, y, X_val, y_val)[1:]\n",
    "    \n",
    "plt.plot(np.log(lambArray), MSETrainArray)\n",
    "plt.plot(np.log(lambArray), MSEValArray)\n",
    "\n",
    "plt.legend([\"Treino\", \"Validação\"])"
   ]
  },
  {
   "cell_type": "markdown",
   "metadata": {},
   "source": [
    "# 4. (OPCIONAL) Implementação em Python\n",
    "\n",
    "Finalmente, você irá escrever sua própria implementação dos modelos acima, usando uma interface parcialmente compatível com a biblioteca `sklearn`. Além das funções `fit()` e `predict()`, a classe do modelo deverá conter uma função `mse()` para cálculo do MSE (ao invés da função `score()` do `sklearn`).\n",
    "\n",
    "É suficiente implementar um modelo de regressão linear com atributos polinomiais de grau $d$ e regularização $\\ell_2$ com parâmetro $\\lambda$; caso se deseje um modelo sem atributos polinomiais (linear na variável de entrada) ou sem regularização, é suficiente fazer $d=1$ ou $\\lambda=0$, respectivamente.\n",
    "\n",
    "1. Complete a classe abaixo, preenchendo as linhas indicadas (ou fique à vontade para reimplementar da forma que desejar).\n",
    "1. Teste-a com os comandos da célula seguinte, para garantir que sua implementação está correta.\n",
    "1. Para este conjunto de dados, o que ocorre quando usamos $d \\geq 10$ e $\\lambda=0$? Por que isso ocorre? Isto deixa de ocorrer se usarmos $\\lambda=10^{-12}$? Por quê?\n",
    "\n",
    "#### Funções úteis:\n",
    "```python\n",
    "np.ones()\n",
    "np.c_[]\n",
    "np.diag()\n",
    "np.r_[]\n",
    "np.linalg.inv()\n",
    "np.linalg.solve()\n",
    "np.mean()\n",
    "```"
   ]
  },
  {
   "cell_type": "code",
   "execution_count": 17,
   "metadata": {},
   "outputs": [],
   "source": [
    "class Model():\n",
    "    # Univariate linear regression with polinomial features and L2 regularization\n",
    "    def __init__(self, d=1, lamb=0):\n",
    "        # Initialization\n",
    "        self.d = d\n",
    "        self.lamb = lamb\n",
    "        return\n",
    "    \n",
    "    def _add_powers(self, X):\n",
    "        # Add powers of X (including a column of ones)\n",
    "        X_new = np.ones((X.shape[0],1))\n",
    "        for i in range(1,self.d+1):\n",
    "            X_new = np.c_[X_new, X**i]\n",
    "        return X_new\n",
    "    \n",
    "    def fit(self, X, y):\n",
    "        X = self._add_powers(X)\n",
    "        L = np.diag(np.r_[0, np.ones(X.shape[1]-1)])\n",
    "        assert np.linalg.matrix_rank(X.T @ X + self.lamb*L) == X.shape[1], 'Singular matrix'\n",
    "        self.w = np.linalg.inv(X.T @ X + self.lamb * L) @ (X.T @ y)\n",
    "        return\n",
    "\n",
    "    def predict(self, X):\n",
    "        X = self._add_powers(X)\n",
    "        y_pred = X @ self.w\n",
    "        return y_pred\n",
    "    \n",
    "    def mse(self, X, y):\n",
    "        J = np.mean((self.predict(X) - y) ** 2)\n",
    "        return J"
   ]
  },
  {
   "cell_type": "code",
   "execution_count": 20,
   "metadata": {},
   "outputs": [
    {
     "name": "stdout",
     "output_type": "stream",
     "text": [
      "w = [ -1.53990017  15.05703958 -34.54693665  20.1283143    1.95724005]\n",
      "w = [ -1.53990017  15.05703958 -34.54693665  20.1283143    1.95724005]\n",
      "Training MSE  : 0.325534\n",
      "Validation MSE: 0.335650\n"
     ]
    },
    {
     "data": {
      "image/png": "[encoded data removed]",
      "text/plain": [
       "<Figure size 432x288 with 1 Axes>"
      ]
     },
     "metadata": {
      "needs_background": "light"
     },
     "output_type": "display_data"
    }
   ],
   "source": [
    "# scikit-learn\n",
    "model = pipeline.make_pipeline(PolynomialFeatures(4, include_bias=False),Ridge(1e-5))\n",
    "model.fit(X,y)\n",
    "ridge = model.steps[1][1]\n",
    "w = np.r_[ridge.intercept_, ridge.coef_]\n",
    "print('w =',w)\n",
    "\n",
    "# own implementation\n",
    "model = Model(d=4, lamb=1e-5)\n",
    "model.fit(X,y)\n",
    "print('w =',model.w)\n",
    "print('Training MSE  : %f' % model.mse(X,y));\n",
    "print('Validation MSE: %f' % model.mse(X_val,y_val));\n",
    "plot_prediction(model, X, y)\n",
    "plt.show()"
   ]
  },
  {
   "cell_type": "markdown",
   "metadata": {},
   "source": [
    "# 5. (OPCIONAL) Engenharia de atributos\n",
    "\n",
    "1. Ao invés de adicionar inúmeros atributos polinomiais e regularização, tente adicionar **um único atributo** que melhor aproxime o conjunto de treinamento. Lembre que você pode introduzir qualquer função que desejar. No `sklearn` isso pode ser feito utilizando a classe abaixo, a qual pode ser integrada em uma *pipeline*."
   ]
  },
  {
   "cell_type": "code",
   "execution_count": 15,
   "metadata": {},
   "outputs": [
    {
     "name": "stdout",
     "output_type": "stream",
     "text": [
      "Train MSE: 0.188547\n",
      "  Val MSE: 0.269411\n"
     ]
    }
   ],
   "source": [
    "from sklearn.base import BaseEstimator, TransformerMixin\n",
    "class MyFeatures(BaseEstimator, TransformerMixin):\n",
    "    def fit(self, X, y=None):\n",
    "        return self\n",
    "    def transform(self, X, y=None):\n",
    "        X_new = np.c_[X, ???]\n",
    "        return X_new\n",
    "\n",
    "model = make_pipeline(MyFeatures(), LinearRegression())\n",
    "model.fit(X, y)\n",
    "print('Train MSE: %f' % mse(model, X, y));\n",
    "print('  Val MSE: %f' % mse(model, X_val, y_val));\n",
    "#print(' Test MSE: %f' % mse(model, X_test, y_test));\n",
    "#plot_prediction(model, X, y)"
   ]
  },
  {
   "cell_type": "code",
   "execution_count": null,
   "metadata": {},
   "outputs": [],
   "source": []
  }
 ],
 "metadata": {
  "kernelspec": {
   "display_name": "Python 3",
   "language": "python",
   "name": "python3"
  },
  "language_info": {
   "codemirror_mode": {
    "name": "ipython",
    "version": 3
   },
   "file_extension": ".py",
   "mimetype": "text/x-python",
   "name": "python",
   "nbconvert_exporter": "python",
   "pygments_lexer": "ipython3",
   "version": "3.7.6"
  }
 },
 "nbformat": 4,
 "nbformat_minor": 4
}
